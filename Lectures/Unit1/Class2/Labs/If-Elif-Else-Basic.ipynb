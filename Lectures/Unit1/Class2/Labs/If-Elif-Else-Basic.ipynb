{
 "cells": [
  {
   "cell_type": "markdown",
   "metadata": {},
   "source": [
    "## If-Elif-Else:  Basic\n",
    "\n",
    "**Important**:  This notebook is designed for people who are not confident they have the basic python syntax down yet.  It's meant to give students a gentle, piecemeal approach towards getting themselves up and running.\n",
    "\n",
    "If you are already comfortable with this material, it's best to use the other notebook provided, which uses more varied prompts."
   ]
  },
  {
   "cell_type": "markdown",
   "metadata": {},
   "source": [
    "**Step 1:**  Create an if-statement that evaluates to True and prints one line as a confirmation.  "
   ]
  },
  {
   "cell_type": "code",
   "execution_count": 7,
   "metadata": {},
   "outputs": [
    {
     "name": "stdout",
     "output_type": "stream",
     "text": [
      "This is correct\n",
      "True\n"
     ]
    }
   ],
   "source": [
    "# your code here\n",
    "x = 75\n",
    "if x == 74 or x == 75:\n",
    "    print(\"This is correct\")\n",
    "    print(\"True\")"
   ]
  },
  {
   "cell_type": "markdown",
   "metadata": {},
   "source": [
    "**Step 2:**  \n",
    " - Make it evaluate to False, just to make sure it works\n",
    " - Add additional lines of output if something evaluates to True"
   ]
  },
  {
   "cell_type": "code",
   "execution_count": 6,
   "metadata": {},
   "outputs": [
    {
     "name": "stdout",
     "output_type": "stream",
     "text": [
      "This is untrue\n",
      "This is false\n"
     ]
    }
   ],
   "source": [
    "y = 5\n",
    "if y != 4 or y == 6:\n",
    "    print(\"This is untrue\")\n",
    "    print(\"This is false\")\n"
   ]
  },
  {
   "cell_type": "markdown",
   "metadata": {},
   "source": [
    "**Step 3:** Add an 'else' statement to your code, and check to make sure it evaluates correctly."
   ]
  },
  {
   "cell_type": "code",
   "execution_count": null,
   "metadata": {},
   "outputs": [],
   "source": [
    "# your code here\n",
    "x = \"I am full\"\n",
    "y = \"I am hungry\"\n",
    "\n",
    "input(\"Are you hungry? Y/N\"):\n",
    "    if x == yes or y == no\n",
    "    print(x)\n",
    "    else  \n"
   ]
  },
  {
   "cell_type": "markdown",
   "metadata": {},
   "source": [
    "**Step 4:**  Add an `elif` block inbetween the `if/else` and test the following:\n",
    "\n",
    " - The statement evaluates the way you would expect if only the `if` statement was True\n",
    " - The statement evaluates the way you would expect if only the `elif` statement was True\n",
    " - Check to see what happens if **both** the `if` and `elif` statements are True."
   ]
  },
  {
   "cell_type": "code",
   "execution_count": 12,
   "metadata": {},
   "outputs": [
    {
     "name": "stdout",
     "output_type": "stream",
     "text": [
      "This is greater than x\n"
     ]
    }
   ],
   "source": [
    "# your code here\n",
    "x = 75\n",
    "if x == 74 and x == 75:\n",
    "    print(\"This is correct\")\n",
    "    print(\"True\")\n",
    "elif x >= 75:\n",
    "    print(\"This is greater than x\")\n",
    "elif x <= 50:\n",
    "    print(\"This is less than x\")\n",
    "else:\n",
    "    print(\"This statement is incorrect\")\n"
   ]
  },
  {
   "cell_type": "markdown",
   "metadata": {},
   "source": [
    "**Step 5:** Add a nested `if` statement inside your previous code block.  \n",
    "\n",
    "For example, setup it up so that it reads something like this:\n",
    "\n",
    "`if True:\n",
    "    if True:\n",
    "        then do this\n",
    "    else:\n",
    "        then do that\n",
    " elif ....`\n",
    " \n",
    " And so on."
   ]
  },
  {
   "cell_type": "code",
   "execution_count": null,
   "metadata": {},
   "outputs": [],
   "source": [
    "# your code here"
   ]
  }
 ],
 "metadata": {
  "kernelspec": {
   "display_name": "Python 3",
   "language": "python",
   "name": "python3"
  },
  "language_info": {
   "codemirror_mode": {
    "name": "ipython",
    "version": 3
   },
   "file_extension": ".py",
   "mimetype": "text/x-python",
   "name": "python",
   "nbconvert_exporter": "python",
   "pygments_lexer": "ipython3",
   "version": "3.7.4"
  }
 },
 "nbformat": 4,
 "nbformat_minor": 2
}
