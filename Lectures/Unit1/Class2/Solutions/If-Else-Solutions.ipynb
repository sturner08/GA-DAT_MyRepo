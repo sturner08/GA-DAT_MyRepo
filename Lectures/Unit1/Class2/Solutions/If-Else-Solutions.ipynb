{
 "cells": [
  {
   "cell_type": "markdown",
   "metadata": {},
   "source": [
    "### If/Else Solutions"
   ]
  },
  {
   "cell_type": "markdown",
   "metadata": {},
   "source": [
    "**Example 1:**"
   ]
  },
  {
   "cell_type": "code",
   "execution_count": null,
   "metadata": {},
   "outputs": [],
   "source": [
    "temperature = float(input('What is the temperature? '))\n",
    "weather = input('What is the weather (rain or shine)? ')"
   ]
  },
  {
   "cell_type": "code",
   "execution_count": null,
   "metadata": {},
   "outputs": [],
   "source": [
    "# A:\n",
    "if temperature > 60 and weather == 'rain':\n",
    "    print('Bring an umbrella')\n",
    "elif temperature < 60 and weather == 'rain':\n",
    "    print('Bring umbrella and jacket')\n",
    "elif temperature > 60 and weather == 'shine':\n",
    "    print('T - shirt')\n",
    "else:\n",
    "    print('jacket')"
   ]
  },
  {
   "cell_type": "markdown",
   "metadata": {},
   "source": [
    "**Example 2:**"
   ]
  },
  {
   "cell_type": "code",
   "execution_count": null,
   "metadata": {},
   "outputs": [],
   "source": [
    "num = int(input(\"Please enter a number: \"))"
   ]
  },
  {
   "cell_type": "code",
   "execution_count": null,
   "metadata": {},
   "outputs": [],
   "source": [
    "if num % 15 == 0:\n",
    "    print('fizzbuzz')\n",
    "elif num % 5 == 0:\n",
    "    print('buzz')\n",
    "elif num % 3 == 0:\n",
    "    print('fizz')\n",
    "else:\n",
    "    print(num)"
   ]
  },
  {
   "cell_type": "markdown",
   "metadata": {},
   "source": [
    "**Example 3:**"
   ]
  },
  {
   "cell_type": "code",
   "execution_count": null,
   "metadata": {},
   "outputs": [],
   "source": [
    "password = input(\"Please enter a password: \")"
   ]
  },
  {
   "cell_type": "code",
   "execution_count": null,
   "metadata": {},
   "outputs": [],
   "source": [
    "if password.isalnum():\n",
    "    if not password.isalpha():\n",
    "        if not password.isdigit():\n",
    "            print(\"Correct password.\")\n",
    "        else:\n",
    "            print(\"Please don't use all numbers.\")\n",
    "    else:\n",
    "        print(\"Please include some numbers\")\n",
    "else:\n",
    "    print(\"Please don't use special characters.\")"
   ]
  }
 ],
 "metadata": {
  "kernelspec": {
   "display_name": "Python 3",
   "language": "python",
   "name": "python3"
  },
  "language_info": {
   "codemirror_mode": {
    "name": "ipython",
    "version": 3
   },
   "file_extension": ".py",
   "mimetype": "text/x-python",
   "name": "python",
   "nbconvert_exporter": "python",
   "pygments_lexer": "ipython3",
   "version": "3.7.1"
  }
 },
 "nbformat": 4,
 "nbformat_minor": 2
}
