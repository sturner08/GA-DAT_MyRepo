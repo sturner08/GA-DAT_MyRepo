{
 "cells": [
  {
   "cell_type": "markdown",
   "metadata": {},
   "source": [
    "### Class 3 Pre-req:  List Slicing and Dictionaries\n",
    "\n",
    "This notebook goes over some of the main background concepts which are going to be used in class 3.  This material was covered in pre-work, so make sure to go over some of the material covered there if you have additional questions.  \n",
    "\n",
    "It's meant just to give you a quick refresher about a few items."
   ]
  },
  {
   "cell_type": "markdown",
   "metadata": {},
   "source": [
    "#### Concept 1:  List Slicing"
   ]
  },
  {
   "cell_type": "code",
   "execution_count": null,
   "metadata": {},
   "outputs": [],
   "source": [
    "# make a list\n",
    "the_list = [24, 37, 49, True, False, 'this', 'that', 'something else']"
   ]
  },
  {
   "cell_type": "code",
   "execution_count": null,
   "metadata": {},
   "outputs": [],
   "source": [
    "# you can grab items by their index\n",
    "print(the_list[0]) # item at position 0\n",
    "print(the_list[1]) # item at position 1\n",
    "print(the_list[2]) # item at position 2, and so on"
   ]
  },
  {
   "cell_type": "markdown",
   "metadata": {},
   "source": [
    "You can also start at the end of a list as well and traverse from right to left using a negative index."
   ]
  },
  {
   "cell_type": "code",
   "execution_count": null,
   "metadata": {},
   "outputs": [],
   "source": [
    "# this grabs the last item in the list\n",
    "print(the_list[-1])\n",
    "# the second to last\n",
    "print(the_list[-2])\n",
    "# the third to last, and so on\n",
    "print(the_list[-3])"
   ]
  },
  {
   "cell_type": "markdown",
   "metadata": {},
   "source": [
    "You can also grab multiple items in a list by specifying their starting position and stopping position."
   ]
  },
  {
   "cell_type": "code",
   "execution_count": null,
   "metadata": {},
   "outputs": [],
   "source": [
    "# this says, start at position 2, and end at position 5\n",
    "the_list[2:5]"
   ]
  },
  {
   "cell_type": "markdown",
   "metadata": {},
   "source": [
    "When you run the cell above, note that it INCLUDES the item at position 2, and EXCLUDES the item at position 5.\n",
    "\n",
    "Slicing also comes with a little bit of shorthand notation as well.  For example, this says:  start at the beginning, and go to position 5."
   ]
  },
  {
   "cell_type": "code",
   "execution_count": null,
   "metadata": {},
   "outputs": [],
   "source": [
    "the_list[:5]"
   ]
  },
  {
   "cell_type": "markdown",
   "metadata": {},
   "source": [
    "Similarly, this says: start at position 5, and go until the end."
   ]
  },
  {
   "cell_type": "code",
   "execution_count": null,
   "metadata": {},
   "outputs": [],
   "source": [
    "the_list[5:]"
   ]
  },
  {
   "cell_type": "markdown",
   "metadata": {},
   "source": [
    "You can also use a negative index when specifying `start:stop` positions in a list."
   ]
  },
  {
   "cell_type": "code",
   "execution_count": null,
   "metadata": {},
   "outputs": [],
   "source": [
    "# this says: grab the last 3 items in a list\n",
    "the_list[-3:]"
   ]
  },
  {
   "cell_type": "markdown",
   "metadata": {},
   "source": [
    "Lots of things behave like lists.  An important example of a list-like thing that doesn't immediately look like a list is a string."
   ]
  },
  {
   "cell_type": "code",
   "execution_count": null,
   "metadata": {},
   "outputs": [],
   "source": [
    "# create the string\n",
    "the_string = 'Hello my name is Jonathan'\n",
    "\n",
    "# and now you can slice it -- this grabs the first 6 letters of the string\n",
    "the_string[:6]"
   ]
  },
  {
   "cell_type": "markdown",
   "metadata": {},
   "source": [
    "Likewise, you can also loop through strings in much the same way you can any other list."
   ]
  },
  {
   "cell_type": "code",
   "execution_count": null,
   "metadata": {},
   "outputs": [],
   "source": [
    "# this will print out every single character in the string, uppercased\n",
    "for letter in the_string:\n",
    "    print(letter.upper())"
   ]
  },
  {
   "cell_type": "markdown",
   "metadata": {},
   "source": [
    "Lists can also be **nested**, which is another important concept, and getting inner list items is a very common task that you have to do."
   ]
  },
  {
   "cell_type": "code",
   "execution_count": null,
   "metadata": {},
   "outputs": [],
   "source": [
    "# notice that this list contains lists as its items\n",
    "nested_list = [['this', 'that'], ['hello', 'goodbye'], ['first item', 'last item'], ['Cheese', 'Is', 'Delicious']]"
   ]
  },
  {
   "cell_type": "markdown",
   "metadata": {},
   "source": [
    "Notice how grabbing the first item from `nested_list` returns the first list inside of it."
   ]
  },
  {
   "cell_type": "code",
   "execution_count": null,
   "metadata": {},
   "outputs": [],
   "source": [
    "nested_list[0]"
   ]
  },
  {
   "cell_type": "markdown",
   "metadata": {},
   "source": [
    "Now, if you want to grab the first item in *that* list, you just use the same notation all over again."
   ]
  },
  {
   "cell_type": "code",
   "execution_count": null,
   "metadata": {},
   "outputs": [],
   "source": [
    "# this grabs the first item in the first list\n",
    "print(nested_list[0][0])\n",
    "# the last item in the first list\n",
    "print(nested_list[0][1])\n",
    "# this is the last item in the last list\n",
    "print(nested_list[-1][-1])\n",
    "# the first item in the second list\n",
    "print(nested_list[1][0])"
   ]
  },
  {
   "cell_type": "markdown",
   "metadata": {},
   "source": [
    "Sometimes this notation can seem a little confusing, and it takes a while to get used to looking at, but it's an important form of pattern recognition you need to have under your belt."
   ]
  },
  {
   "cell_type": "markdown",
   "metadata": {},
   "source": [
    "### Concept 2:  Dictionaries\n",
    "\n",
    "Probably the second most important data type outside of lists is the dictionary.  It's used to store information in key/value pairs, and is probably the most common way to transport data over the web.  \n",
    "\n",
    "You make one like this:"
   ]
  },
  {
   "cell_type": "code",
   "execution_count": null,
   "metadata": {},
   "outputs": [],
   "source": [
    "# the curly braces denote the beginning of a dictionary\n",
    "myself = {\n",
    "    # the item on the left hand side is the key, the right hand side the value\n",
    "    'name'      : 'Jonathan',\n",
    "    'age'       : 34,\n",
    "    # notice that a value can be a list -- an important detail\n",
    "    'interests' : ['python', 'reading', 'basketball'],\n",
    "    # a value can also be another dictionary!\n",
    "    'occupation': {\n",
    "        'title': 'Instructor',\n",
    "        'company': 'General Assembly'\n",
    "    }\n",
    "}"
   ]
  },
  {
   "cell_type": "markdown",
   "metadata": {},
   "source": [
    "In a dictionary, you can grab something by its key, and get its corresponding value returned."
   ]
  },
  {
   "cell_type": "code",
   "execution_count": null,
   "metadata": {},
   "outputs": [],
   "source": [
    "# this will return the value associated with the name key\n",
    "myself['name']"
   ]
  },
  {
   "cell_type": "code",
   "execution_count": null,
   "metadata": {},
   "outputs": [],
   "source": [
    "# this will return the value associated with the interests key\n",
    "print(myself['interests'])\n",
    "# this will return the FIRST ITEM inside the the above list\n",
    "print(myself['interests'][0])"
   ]
  },
  {
   "cell_type": "markdown",
   "metadata": {},
   "source": [
    "You can loop through inner dictionary items just like you would any other list"
   ]
  },
  {
   "cell_type": "code",
   "execution_count": null,
   "metadata": {},
   "outputs": [],
   "source": [
    "# this will print off every one of your interests\n",
    "for interest in myself['interests']:\n",
    "    print(interest)"
   ]
  },
  {
   "cell_type": "markdown",
   "metadata": {},
   "source": [
    "And inner dictionaries work just like any other dictionary."
   ]
  },
  {
   "cell_type": "code",
   "execution_count": null,
   "metadata": {},
   "outputs": [],
   "source": [
    "# this returns the dictionary that's the value for the 'occupation' key\n",
    "myself['occupation']"
   ]
  },
  {
   "cell_type": "code",
   "execution_count": null,
   "metadata": {},
   "outputs": [],
   "source": [
    "# and this returns the value for ths 'title' key that's inside the dictionary associated with the 'occupation' key\n",
    "myself['occupation']['title']"
   ]
  }
 ],
 "metadata": {
  "kernelspec": {
   "display_name": "Python 3",
   "language": "python",
   "name": "python3"
  },
  "language_info": {
   "codemirror_mode": {
    "name": "ipython",
    "version": 3
   },
   "file_extension": ".py",
   "mimetype": "text/x-python",
   "name": "python",
   "nbconvert_exporter": "python",
   "pygments_lexer": "ipython3",
   "version": "3.7.4"
  }
 },
 "nbformat": 4,
 "nbformat_minor": 2
}
